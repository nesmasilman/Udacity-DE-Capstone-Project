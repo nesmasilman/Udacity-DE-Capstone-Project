{
 "cells": [
  {
   "cell_type": "markdown",
   "metadata": {},
   "source": [
    "# US Immigration Data\n",
    "### Data Engineering Capstone Project\n",
    "\n",
    "#### Project Summary\n",
    "I will use the US Immigration dataset I94 to analyse information about German residents travelling to the USA.\n",
    "\n",
    "The project follows the follow steps:\n",
    "* Step 1: Scope the Project and Gather Data\n",
    "* Step 2: Explore and Assess the Data\n",
    "* Step 3: Define the Data Model\n",
    "* Step 4: Run ETL to Model the Data\n",
    "* Step 5: Complete Project Write Up"
   ]
  },
  {
   "cell_type": "code",
   "execution_count": 1,
   "metadata": {},
   "outputs": [],
   "source": [
    "# Do all imports and installs here\n",
    "import pandas as pd\n",
    "import matplotlib.pyplot as plt\n",
    "import numpy as np"
   ]
  },
  {
   "cell_type": "code",
   "execution_count": 2,
   "metadata": {},
   "outputs": [],
   "source": [
    "# I want to suppress warning messages\n",
    "import warnings\n",
    "warnings.filterwarnings('ignore')"
   ]
  },
  {
   "cell_type": "code",
   "execution_count": 3,
   "metadata": {},
   "outputs": [],
   "source": [
    "from IPython.display import Image\n",
    "from IPython import display"
   ]
  },
  {
   "cell_type": "markdown",
   "metadata": {},
   "source": [
    "### Step 1: Scope the Project and Gather Data\n",
    "\n",
    "#### Scope \n",
    "I'm interested in analysing the behavior of German residents travelling to the USA. I want this project to answer the below questions:\n",
    "\n",
    "* Which types of Visas do Germans use?\n",
    "* what is their travelling patterns over the year?\n",
    "* what are their preferred states to reside in during their visits to USA?\n",
    "\n",
    "To answer these questions, I will use the below datasets:\n",
    "\n",
    "1. US immigration I94 dataset for all months during 2016\n",
    "2. An external JSON file with the countries ISO codes to be able to extract German residents only from the Immigration dataset.\n",
    "3. The US demographic dataset to extract the US states full name, as the states included in immigration datasets are abbreviated.\n",
    "\n",
    "I will be using Pandas and matplotlib libraries for my analysis\n"
   ]
  },
  {
   "cell_type": "code",
   "execution_count": 4,
   "metadata": {},
   "outputs": [],
   "source": [
    "# Let's start by takeing a look at the sample file to understand the components of Immigration dataset\n",
    "df = pd.read_csv('immigration_data_sample.csv', index_col=0)"
   ]
  },
  {
   "cell_type": "code",
   "execution_count": 5,
   "metadata": {
    "scrolled": false
   },
   "outputs": [
    {
     "data": {
      "text/html": [
       "<div>\n",
       "<style scoped>\n",
       "    .dataframe tbody tr th:only-of-type {\n",
       "        vertical-align: middle;\n",
       "    }\n",
       "\n",
       "    .dataframe tbody tr th {\n",
       "        vertical-align: top;\n",
       "    }\n",
       "\n",
       "    .dataframe thead th {\n",
       "        text-align: right;\n",
       "    }\n",
       "</style>\n",
       "<table border=\"1\" class=\"dataframe\">\n",
       "  <thead>\n",
       "    <tr style=\"text-align: right;\">\n",
       "      <th></th>\n",
       "      <th>cicid</th>\n",
       "      <th>i94yr</th>\n",
       "      <th>i94mon</th>\n",
       "      <th>i94cit</th>\n",
       "      <th>i94res</th>\n",
       "      <th>i94port</th>\n",
       "      <th>arrdate</th>\n",
       "      <th>i94mode</th>\n",
       "      <th>i94addr</th>\n",
       "      <th>depdate</th>\n",
       "      <th>...</th>\n",
       "      <th>entdepu</th>\n",
       "      <th>matflag</th>\n",
       "      <th>biryear</th>\n",
       "      <th>dtaddto</th>\n",
       "      <th>gender</th>\n",
       "      <th>insnum</th>\n",
       "      <th>airline</th>\n",
       "      <th>admnum</th>\n",
       "      <th>fltno</th>\n",
       "      <th>visatype</th>\n",
       "    </tr>\n",
       "  </thead>\n",
       "  <tbody>\n",
       "    <tr>\n",
       "      <th>2027561</th>\n",
       "      <td>4084316.0</td>\n",
       "      <td>2016.0</td>\n",
       "      <td>4.0</td>\n",
       "      <td>209.0</td>\n",
       "      <td>209.0</td>\n",
       "      <td>HHW</td>\n",
       "      <td>20566.0</td>\n",
       "      <td>1.0</td>\n",
       "      <td>HI</td>\n",
       "      <td>20573.0</td>\n",
       "      <td>...</td>\n",
       "      <td>NaN</td>\n",
       "      <td>M</td>\n",
       "      <td>1955.0</td>\n",
       "      <td>07202016</td>\n",
       "      <td>F</td>\n",
       "      <td>NaN</td>\n",
       "      <td>JL</td>\n",
       "      <td>5.658267e+10</td>\n",
       "      <td>00782</td>\n",
       "      <td>WT</td>\n",
       "    </tr>\n",
       "    <tr>\n",
       "      <th>2171295</th>\n",
       "      <td>4422636.0</td>\n",
       "      <td>2016.0</td>\n",
       "      <td>4.0</td>\n",
       "      <td>582.0</td>\n",
       "      <td>582.0</td>\n",
       "      <td>MCA</td>\n",
       "      <td>20567.0</td>\n",
       "      <td>1.0</td>\n",
       "      <td>TX</td>\n",
       "      <td>20568.0</td>\n",
       "      <td>...</td>\n",
       "      <td>NaN</td>\n",
       "      <td>M</td>\n",
       "      <td>1990.0</td>\n",
       "      <td>10222016</td>\n",
       "      <td>M</td>\n",
       "      <td>NaN</td>\n",
       "      <td>*GA</td>\n",
       "      <td>9.436200e+10</td>\n",
       "      <td>XBLNG</td>\n",
       "      <td>B2</td>\n",
       "    </tr>\n",
       "    <tr>\n",
       "      <th>589494</th>\n",
       "      <td>1195600.0</td>\n",
       "      <td>2016.0</td>\n",
       "      <td>4.0</td>\n",
       "      <td>148.0</td>\n",
       "      <td>112.0</td>\n",
       "      <td>OGG</td>\n",
       "      <td>20551.0</td>\n",
       "      <td>1.0</td>\n",
       "      <td>FL</td>\n",
       "      <td>20571.0</td>\n",
       "      <td>...</td>\n",
       "      <td>NaN</td>\n",
       "      <td>M</td>\n",
       "      <td>1940.0</td>\n",
       "      <td>07052016</td>\n",
       "      <td>M</td>\n",
       "      <td>NaN</td>\n",
       "      <td>LH</td>\n",
       "      <td>5.578047e+10</td>\n",
       "      <td>00464</td>\n",
       "      <td>WT</td>\n",
       "    </tr>\n",
       "    <tr>\n",
       "      <th>2631158</th>\n",
       "      <td>5291768.0</td>\n",
       "      <td>2016.0</td>\n",
       "      <td>4.0</td>\n",
       "      <td>297.0</td>\n",
       "      <td>297.0</td>\n",
       "      <td>LOS</td>\n",
       "      <td>20572.0</td>\n",
       "      <td>1.0</td>\n",
       "      <td>CA</td>\n",
       "      <td>20581.0</td>\n",
       "      <td>...</td>\n",
       "      <td>NaN</td>\n",
       "      <td>M</td>\n",
       "      <td>1991.0</td>\n",
       "      <td>10272016</td>\n",
       "      <td>M</td>\n",
       "      <td>NaN</td>\n",
       "      <td>QR</td>\n",
       "      <td>9.478970e+10</td>\n",
       "      <td>00739</td>\n",
       "      <td>B2</td>\n",
       "    </tr>\n",
       "    <tr>\n",
       "      <th>3032257</th>\n",
       "      <td>985523.0</td>\n",
       "      <td>2016.0</td>\n",
       "      <td>4.0</td>\n",
       "      <td>111.0</td>\n",
       "      <td>111.0</td>\n",
       "      <td>CHM</td>\n",
       "      <td>20550.0</td>\n",
       "      <td>3.0</td>\n",
       "      <td>NY</td>\n",
       "      <td>20553.0</td>\n",
       "      <td>...</td>\n",
       "      <td>NaN</td>\n",
       "      <td>M</td>\n",
       "      <td>1997.0</td>\n",
       "      <td>07042016</td>\n",
       "      <td>F</td>\n",
       "      <td>NaN</td>\n",
       "      <td>NaN</td>\n",
       "      <td>4.232257e+10</td>\n",
       "      <td>LAND</td>\n",
       "      <td>WT</td>\n",
       "    </tr>\n",
       "  </tbody>\n",
       "</table>\n",
       "<p>5 rows × 28 columns</p>\n",
       "</div>"
      ],
      "text/plain": [
       "             cicid   i94yr  i94mon  i94cit  i94res i94port  arrdate  i94mode  \\\n",
       "2027561  4084316.0  2016.0     4.0   209.0   209.0     HHW  20566.0      1.0   \n",
       "2171295  4422636.0  2016.0     4.0   582.0   582.0     MCA  20567.0      1.0   \n",
       "589494   1195600.0  2016.0     4.0   148.0   112.0     OGG  20551.0      1.0   \n",
       "2631158  5291768.0  2016.0     4.0   297.0   297.0     LOS  20572.0      1.0   \n",
       "3032257   985523.0  2016.0     4.0   111.0   111.0     CHM  20550.0      3.0   \n",
       "\n",
       "        i94addr  depdate   ...     entdepu  matflag  biryear   dtaddto gender  \\\n",
       "2027561      HI  20573.0   ...         NaN        M   1955.0  07202016      F   \n",
       "2171295      TX  20568.0   ...         NaN        M   1990.0  10222016      M   \n",
       "589494       FL  20571.0   ...         NaN        M   1940.0  07052016      M   \n",
       "2631158      CA  20581.0   ...         NaN        M   1991.0  10272016      M   \n",
       "3032257      NY  20553.0   ...         NaN        M   1997.0  07042016      F   \n",
       "\n",
       "        insnum airline        admnum  fltno visatype  \n",
       "2027561    NaN      JL  5.658267e+10  00782       WT  \n",
       "2171295    NaN     *GA  9.436200e+10  XBLNG       B2  \n",
       "589494     NaN      LH  5.578047e+10  00464       WT  \n",
       "2631158    NaN      QR  9.478970e+10  00739       B2  \n",
       "3032257    NaN     NaN  4.232257e+10   LAND       WT  \n",
       "\n",
       "[5 rows x 28 columns]"
      ]
     },
     "execution_count": 5,
     "metadata": {},
     "output_type": "execute_result"
    }
   ],
   "source": [
    "df.head()"
   ]
  },
  {
   "cell_type": "code",
   "execution_count": 6,
   "metadata": {
    "scrolled": true
   },
   "outputs": [
    {
     "data": {
      "text/plain": [
       "Index(['cicid', 'i94yr', 'i94mon', 'i94cit', 'i94res', 'i94port', 'arrdate',\n",
       "       'i94mode', 'i94addr', 'depdate', 'i94bir', 'i94visa', 'count',\n",
       "       'dtadfile', 'visapost', 'occup', 'entdepa', 'entdepd', 'entdepu',\n",
       "       'matflag', 'biryear', 'dtaddto', 'gender', 'insnum', 'airline',\n",
       "       'admnum', 'fltno', 'visatype'],\n",
       "      dtype='object')"
      ]
     },
     "execution_count": 6,
     "metadata": {},
     "output_type": "execute_result"
    }
   ],
   "source": [
    "df.columns"
   ]
  },
  {
   "cell_type": "code",
   "execution_count": 7,
   "metadata": {
    "scrolled": true
   },
   "outputs": [
    {
     "data": {
      "text/plain": [
       "28"
      ]
     },
     "execution_count": 7,
     "metadata": {},
     "output_type": "execute_result"
    }
   ],
   "source": [
    "len(df.columns)"
   ]
  },
  {
   "cell_type": "markdown",
   "metadata": {},
   "source": [
    "Using Chatgpt, here are the description of the columns,\n",
    "\n",
    "* CICID: A unique identifier assigned to each individual record in the dataset.\n",
    "* i94yr: The 4-digit year of the visitor's arrival in the United States.\n",
    "* i94mon: The numeric month of the visitor's arrival in the United States.\n",
    "* i94cit: The visitor's country of citizenship.\n",
    "* i94res: The visitor's country of residence.\n",
    "* i94port: The port of entry where the visitor arrived in the United States.\n",
    "* arrdate: The arrival date of the visitor in the United States.\n",
    "* i94mode: The mode of transportation used by the visitor to enter the United States.\n",
    "* i94addr: The state where the visitor intends to reside in the United States.\n",
    "* depdate: The departure date of the visitor from the United States.\n",
    "* i94bir: The visitor's age at the time of arrival in the United States.\n",
    "* i94visa: The type of visa the visitor used to enter theUnited States, such as business, pleasure, or student.\n",
    "* count: The number of people included in the record.\n",
    "* dtadfile: The date on which the data was added to the I94 file.\n",
    "* visapost: The US embassy or consulate where the visitor obtained their visa.\n",
    "* occup: The visitor's occupation.\n",
    "* entdepa: The arrival flag - indicates the reason for the visitor's arrival in the US.\n",
    "* entdepd: The departure flag - indicates the reason for the visitor's departure from the US.\n",
    "* entdepu: Update flag - indicates if the arrival record was updated, typically for a change of address or other similar reasons.\n",
    "* matflag: Match flag - indicates if the arrival and departure records match.\n",
    "* biryear: The visitor's birth year.\n",
    "* dtaddto: The date until which the visitor is admitted to stay in the US.\n",
    "* gender: The visitor's gender.\n",
    "* insnum: \"Immigration and Naturalization Service (INS) number,\" which was a unique identifier assigned by the US government to individuals who applied for immigration benefits or who were admitted to the US as non-immigrant visitors.\n",
    "* airline: The airline used by the visitor to travel to the US.\n",
    "* admnum: Admission number - a unique number assigned to each arrival record.\n",
    "* fltno: The flight number used by the non-immigrant visitor to enter the United States.\n",
    "* visatype: The type of visa that a non-immigrant visitor used to enter the United States."
   ]
  },
  {
   "cell_type": "markdown",
   "metadata": {},
   "source": [
    "### Step 2: Explore and Assess the Data"
   ]
  },
  {
   "cell_type": "markdown",
   "metadata": {},
   "source": [
    "I can see that column i94res includes a numerical value which represents the visitor's country of residence. I'm interested in retrieving the names of these countries. So, I uploaded a Json file that contains the ISO numerical code and the corresponding country name. Now let's use it."
   ]
  },
  {
   "cell_type": "code",
   "execution_count": 8,
   "metadata": {},
   "outputs": [
    {
     "data": {
      "text/html": [
       "<div>\n",
       "<style scoped>\n",
       "    .dataframe tbody tr th:only-of-type {\n",
       "        vertical-align: middle;\n",
       "    }\n",
       "\n",
       "    .dataframe tbody tr th {\n",
       "        vertical-align: top;\n",
       "    }\n",
       "\n",
       "    .dataframe thead th {\n",
       "        text-align: right;\n",
       "    }\n",
       "</style>\n",
       "<table border=\"1\" class=\"dataframe\">\n",
       "  <thead>\n",
       "    <tr style=\"text-align: right;\">\n",
       "      <th></th>\n",
       "      <th>alpha2</th>\n",
       "      <th>alpha3</th>\n",
       "      <th>id</th>\n",
       "      <th>name</th>\n",
       "    </tr>\n",
       "  </thead>\n",
       "  <tbody>\n",
       "    <tr>\n",
       "      <th>0</th>\n",
       "      <td>af</td>\n",
       "      <td>afg</td>\n",
       "      <td>4</td>\n",
       "      <td>Afghanistan</td>\n",
       "    </tr>\n",
       "  </tbody>\n",
       "</table>\n",
       "</div>"
      ],
      "text/plain": [
       "  alpha2 alpha3  id         name\n",
       "0     af    afg   4  Afghanistan"
      ]
     },
     "execution_count": 8,
     "metadata": {},
     "output_type": "execute_result"
    }
   ],
   "source": [
    "codes=pd.read_json('countries.json')\n",
    "codes.head(1)"
   ]
  },
  {
   "cell_type": "markdown",
   "metadata": {},
   "source": [
    "I'm Interested in analysing the data of German residents, so I will get its ISO code from the Codes dataset and use it to filter the data in the immigration dataset."
   ]
  },
  {
   "cell_type": "code",
   "execution_count": 9,
   "metadata": {},
   "outputs": [
    {
     "data": {
      "text/plain": [
       "276"
      ]
     },
     "execution_count": 9,
     "metadata": {},
     "output_type": "execute_result"
    }
   ],
   "source": [
    "grmn_cd=codes[codes['name']=='Germany']['id'].iloc[0]\n",
    "grmn_cd"
   ]
  },
  {
   "cell_type": "markdown",
   "metadata": {},
   "source": [
    "Now let's get the immigration data for each month, and filter only the german residents records. I'm interested in exploring the types of visas column (visatype) and the state in which visitors will reside (i94addr), I will also keep the month column to be used in the analysis. \n",
    "\n",
    "I will ignore the count of persons within the same record that exists in column \"count\", and assume each record represents 1 person."
   ]
  },
  {
   "cell_type": "markdown",
   "metadata": {},
   "source": [
    "For each separate month, I will do 3 steps:\n",
    "\n",
    "1. Filter and keep German residents\n",
    "2. Delete the duplicates of the unique identifier 'cicid'\n",
    "3. Delete the null values, and if their size is large (more than an assumed threshold), a warning message will display."
   ]
  },
  {
   "cell_type": "code",
   "execution_count": 10,
   "metadata": {},
   "outputs": [],
   "source": [
    "# set null values % threshold\n",
    "thrshold= 0.3\n",
    "\n",
    "def monthly_data(month):\n",
    "    \"\"\"Takes in a month dataset and returns a processed dataset with german residents\"\"\"\n",
    "    \n",
    "    data=pd.read_sas('../../data/18-83510-I94-Data-2016/i94_{}16_sub.sas7bdat'.format(month), 'sas7bdat', encoding=\"ISO-8859-1\")\n",
    "    data=data[['cicid','i94mon','i94res','i94addr','visatype']]\n",
    "    grmn=data[data['i94res']==grmn_cd].drop_duplicates(subset='cicid')\n",
    "    rto=(len(grmn)-grmn.count().min())/len(grmn)\n",
    "    [print(\"****{} WARNING: Number of Missing Values Exceeds Threshold****\".format(month.upper())) if rto>thrshold else None][0]\n",
    "    grmn.dropna(inplace=True)\n",
    "    return grmn"
   ]
  },
  {
   "cell_type": "code",
   "execution_count": 11,
   "metadata": {},
   "outputs": [],
   "source": [
    "# Let's run our function on all months\n",
    "jan = monthly_data('jan')\n",
    "feb = monthly_data('feb')\n",
    "mar = monthly_data('mar')\n",
    "apr = monthly_data('apr')\n",
    "may = monthly_data('may')\n",
    "jun = monthly_data('jun')\n",
    "jul = monthly_data('jul')\n",
    "aug = monthly_data('aug')\n",
    "sep = monthly_data('sep')\n",
    "octo = monthly_data('oct')\n",
    "nov = monthly_data('nov')\n",
    "dec = monthly_data('dec')"
   ]
  },
  {
   "cell_type": "code",
   "execution_count": 30,
   "metadata": {},
   "outputs": [],
   "source": [
    "# prepare a list with all months\n",
    "months=[jan, feb,mar,apr,may,jun,jul,aug,sep,octo,nov,dec]"
   ]
  },
  {
   "cell_type": "markdown",
   "metadata": {},
   "source": [
    "### Quality check # 1:\n",
    "\n",
    "I will count the number of rows for all months to ensure each table has rows more than 0"
   ]
  },
  {
   "cell_type": "code",
   "execution_count": 38,
   "metadata": {},
   "outputs": [
    {
     "name": "stdout",
     "output_type": "stream",
     "text": [
      "Month 1 has 160368 rows\n",
      "Month 2 has 133147 rows\n",
      "Month 3 has 109489 rows\n",
      "Month 4 has 120948 rows\n",
      "Month 5 has 139896 rows\n",
      "Month 6 has 153713 rows\n",
      "Month 7 has 181844 rows\n",
      "Month 8 has 158425 rows\n",
      "Month 9 has 166519 rows\n",
      "Month 10 has 155070 rows\n",
      "Month 11 has 142255 rows\n",
      "Month 12 has 169092 rows\n"
     ]
    }
   ],
   "source": [
    "for index, item in enumerate(months):\n",
    "    if len(item)==0:\n",
    "        print('Error: Month {} has 0 rows'.format(index+1))\n",
    "    else:\n",
    "        print('Month {} has {} rows'.format(index+1, len(item)))"
   ]
  },
  {
   "cell_type": "markdown",
   "metadata": {},
   "source": [
    "### Quality Check # 1 \n",
    "\n",
    "Checking the % of null values before dropping them, and displaying an error message if the % exceeded a given threshold."
   ]
  },
  {
   "cell_type": "markdown",
   "metadata": {},
   "source": [
    "I will display the first row only for each table to make sure that no month has a high % of missing data"
   ]
  },
  {
   "cell_type": "code",
   "execution_count": 40,
   "metadata": {},
   "outputs": [
    {
     "name": "stdout",
     "output_type": "stream",
     "text": [
      "-----------------1-----------------\n",
      "       cicid  i94mon  i94res i94addr visatype\n",
      "3136  5028.0     1.0   276.0      NY       F1\n",
      "\n",
      "-----------------2-----------------\n",
      "       cicid  i94mon  i94res i94addr visatype\n",
      "1800  2656.0     2.0   276.0      NV       WT\n",
      "\n",
      "-----------------3-----------------\n",
      "       cicid  i94mon  i94res i94addr visatype\n",
      "4689  5997.0     3.0   276.0      CA       WB\n",
      "\n",
      "-----------------4-----------------\n",
      "   cicid  i94mon  i94res i94addr visatype\n",
      "1    7.0     4.0   276.0      AL       F1\n",
      "\n",
      "-----------------5-----------------\n",
      "        cicid  i94mon  i94res i94addr visatype\n",
      "8244  10067.0     5.0   276.0      NJ       WT\n",
      "\n",
      "-----------------6-----------------\n",
      "    cicid  i94mon  i94res i94addr visatype\n",
      "10   41.0     6.0   276.0      CA       F1\n",
      "\n",
      "-----------------7-----------------\n",
      "   cicid  i94mon  i94res i94addr visatype\n",
      "0    1.0     7.0   276.0      CA       WT\n",
      "\n",
      "-----------------8-----------------\n",
      "    cicid  i94mon  i94res i94addr visatype\n",
      "13   88.0     8.0   276.0      FL      GMT\n",
      "\n",
      "-----------------9-----------------\n",
      "       cicid  i94mon  i94res i94addr visatype\n",
      "104  10643.0     9.0   276.0      GA      GMT\n",
      "\n",
      "-----------------10-----------------\n",
      "   cicid  i94mon  i94res i94addr visatype\n",
      "6  200.0    10.0   276.0      HI      GMT\n",
      "\n",
      "-----------------11-----------------\n",
      "   cicid  i94mon  i94res i94addr visatype\n",
      "5   69.0    11.0   276.0      MA       F1\n",
      "\n",
      "-----------------12-----------------\n",
      "     cicid  i94mon  i94res i94addr visatype\n",
      "130  888.0    12.0   276.0      TX      GMT\n",
      "\n"
     ]
    }
   ],
   "source": [
    "for index, item in enumerate(months):\n",
    "    print('-----------------{}-----------------'.format(index+1))\n",
    "    print(item.head(1))\n",
    "    print()"
   ]
  },
  {
   "cell_type": "markdown",
   "metadata": {},
   "source": [
    "Next, We will concatenate all months into one dataset, and drop the \"i94res\" column since it only include German residents' code"
   ]
  },
  {
   "cell_type": "code",
   "execution_count": 41,
   "metadata": {
    "scrolled": true
   },
   "outputs": [],
   "source": [
    "german=pd.concat(months, ignore_index=True)\n",
    "german.drop(labels='i94res', inplace=True, axis=1)"
   ]
  },
  {
   "cell_type": "code",
   "execution_count": 42,
   "metadata": {
    "scrolled": true
   },
   "outputs": [
    {
     "data": {
      "text/html": [
       "<div>\n",
       "<style scoped>\n",
       "    .dataframe tbody tr th:only-of-type {\n",
       "        vertical-align: middle;\n",
       "    }\n",
       "\n",
       "    .dataframe tbody tr th {\n",
       "        vertical-align: top;\n",
       "    }\n",
       "\n",
       "    .dataframe thead th {\n",
       "        text-align: right;\n",
       "    }\n",
       "</style>\n",
       "<table border=\"1\" class=\"dataframe\">\n",
       "  <thead>\n",
       "    <tr style=\"text-align: right;\">\n",
       "      <th></th>\n",
       "      <th>cicid</th>\n",
       "      <th>i94mon</th>\n",
       "      <th>i94addr</th>\n",
       "      <th>visatype</th>\n",
       "    </tr>\n",
       "  </thead>\n",
       "  <tbody>\n",
       "    <tr>\n",
       "      <th>0</th>\n",
       "      <td>5028.0</td>\n",
       "      <td>1.0</td>\n",
       "      <td>NY</td>\n",
       "      <td>F1</td>\n",
       "    </tr>\n",
       "    <tr>\n",
       "      <th>1</th>\n",
       "      <td>8576.0</td>\n",
       "      <td>1.0</td>\n",
       "      <td>CA</td>\n",
       "      <td>WT</td>\n",
       "    </tr>\n",
       "  </tbody>\n",
       "</table>\n",
       "</div>"
      ],
      "text/plain": [
       "    cicid  i94mon i94addr visatype\n",
       "0  5028.0     1.0      NY       F1\n",
       "1  8576.0     1.0      CA       WT"
      ]
     },
     "execution_count": 42,
     "metadata": {},
     "output_type": "execute_result"
    }
   ],
   "source": [
    "german.head(2)"
   ]
  },
  {
   "cell_type": "code",
   "execution_count": 43,
   "metadata": {
    "scrolled": true
   },
   "outputs": [
    {
     "data": {
      "text/plain": [
       "1790766"
      ]
     },
     "execution_count": 43,
     "metadata": {},
     "output_type": "execute_result"
    }
   ],
   "source": [
    "# Let's ensure that the # rows are more than 1 million (project requirement)\n",
    "len(german)"
   ]
  },
  {
   "cell_type": "code",
   "execution_count": 44,
   "metadata": {
    "scrolled": true
   },
   "outputs": [
    {
     "data": {
      "text/html": [
       "<div>\n",
       "<style scoped>\n",
       "    .dataframe tbody tr th:only-of-type {\n",
       "        vertical-align: middle;\n",
       "    }\n",
       "\n",
       "    .dataframe tbody tr th {\n",
       "        vertical-align: top;\n",
       "    }\n",
       "\n",
       "    .dataframe thead th {\n",
       "        text-align: right;\n",
       "    }\n",
       "</style>\n",
       "<table border=\"1\" class=\"dataframe\">\n",
       "  <thead>\n",
       "    <tr style=\"text-align: right;\">\n",
       "      <th></th>\n",
       "      <th>City</th>\n",
       "      <th>State</th>\n",
       "      <th>Median Age</th>\n",
       "      <th>Male Population</th>\n",
       "      <th>Female Population</th>\n",
       "      <th>Total Population</th>\n",
       "      <th>Number of Veterans</th>\n",
       "      <th>Foreign-born</th>\n",
       "      <th>Average Household Size</th>\n",
       "      <th>State Code</th>\n",
       "      <th>Race</th>\n",
       "      <th>Count</th>\n",
       "    </tr>\n",
       "  </thead>\n",
       "  <tbody>\n",
       "    <tr>\n",
       "      <th>0</th>\n",
       "      <td>Silver Spring</td>\n",
       "      <td>Maryland</td>\n",
       "      <td>33.8</td>\n",
       "      <td>40601.0</td>\n",
       "      <td>41862.0</td>\n",
       "      <td>82463</td>\n",
       "      <td>1562.0</td>\n",
       "      <td>30908.0</td>\n",
       "      <td>2.6</td>\n",
       "      <td>MD</td>\n",
       "      <td>Hispanic or Latino</td>\n",
       "      <td>25924</td>\n",
       "    </tr>\n",
       "  </tbody>\n",
       "</table>\n",
       "</div>"
      ],
      "text/plain": [
       "            City     State  Median Age  Male Population  Female Population  \\\n",
       "0  Silver Spring  Maryland        33.8          40601.0            41862.0   \n",
       "\n",
       "   Total Population  Number of Veterans  Foreign-born  Average Household Size  \\\n",
       "0             82463              1562.0       30908.0                     2.6   \n",
       "\n",
       "  State Code                Race  Count  \n",
       "0         MD  Hispanic or Latino  25924  "
      ]
     },
     "execution_count": 44,
     "metadata": {},
     "output_type": "execute_result"
    }
   ],
   "source": [
    "# Now let's read the U.S. City Demographic Data\n",
    "\n",
    "df_demo=pd.read_csv('us-cities-demographics.csv',delimiter=';')\n",
    "df_demo.head(1)"
   ]
  },
  {
   "cell_type": "code",
   "execution_count": 45,
   "metadata": {
    "scrolled": true
   },
   "outputs": [
    {
     "name": "stdout",
     "output_type": "stream",
     "text": [
      "49\n"
     ]
    },
    {
     "data": {
      "text/plain": [
       "{'MD': 'Maryland',\n",
       " 'MA': 'Massachusetts',\n",
       " 'AL': 'Alabama',\n",
       " 'CA': 'California',\n",
       " 'NJ': 'New Jersey',\n",
       " 'IL': 'Illinois',\n",
       " 'AZ': 'Arizona',\n",
       " 'MO': 'Missouri',\n",
       " 'NC': 'North Carolina',\n",
       " 'PA': 'Pennsylvania',\n",
       " 'KS': 'Kansas',\n",
       " 'FL': 'Florida',\n",
       " 'TX': 'Texas',\n",
       " 'VA': 'Virginia',\n",
       " 'NV': 'Nevada',\n",
       " 'CO': 'Colorado',\n",
       " 'MI': 'Michigan',\n",
       " 'CT': 'Connecticut',\n",
       " 'MN': 'Minnesota',\n",
       " 'UT': 'Utah',\n",
       " 'AR': 'Arkansas',\n",
       " 'TN': 'Tennessee',\n",
       " 'OK': 'Oklahoma',\n",
       " 'WA': 'Washington',\n",
       " 'NY': 'New York',\n",
       " 'GA': 'Georgia',\n",
       " 'NE': 'Nebraska',\n",
       " 'KY': 'Kentucky',\n",
       " 'SC': 'South Carolina',\n",
       " 'LA': 'Louisiana',\n",
       " 'NM': 'New Mexico',\n",
       " 'IA': 'Iowa',\n",
       " 'RI': 'Rhode Island',\n",
       " 'PR': 'Puerto Rico',\n",
       " 'DC': 'District of Columbia',\n",
       " 'WI': 'Wisconsin',\n",
       " 'OR': 'Oregon',\n",
       " 'NH': 'New Hampshire',\n",
       " 'ND': 'North Dakota',\n",
       " 'DE': 'Delaware',\n",
       " 'OH': 'Ohio',\n",
       " 'ID': 'Idaho',\n",
       " 'IN': 'Indiana',\n",
       " 'AK': 'Alaska',\n",
       " 'MS': 'Mississippi',\n",
       " 'HI': 'Hawaii',\n",
       " 'SD': 'South Dakota',\n",
       " 'ME': 'Maine',\n",
       " 'MT': 'Montana'}"
      ]
     },
     "execution_count": 45,
     "metadata": {},
     "output_type": "execute_result"
    }
   ],
   "source": [
    "# I'm only interested in the columns \"State Code\" & \"State\". I want to use them to form a dict\n",
    "\n",
    "st=df_demo[['State Code','State']].set_index('State Code','State').to_dict()\n",
    "st_dict=st['State']\n",
    "print(len(st_dict))\n",
    "st_dict"
   ]
  },
  {
   "cell_type": "markdown",
   "metadata": {},
   "source": [
    "Now we have the data of 49 US state names and their codes. let's check the codes that exist in the immigration dataset"
   ]
  },
  {
   "cell_type": "code",
   "execution_count": 46,
   "metadata": {},
   "outputs": [
    {
     "data": {
      "text/plain": [
       "{'GU': 399141,\n",
       " 'CA': 354775,\n",
       " 'HI': 264683,\n",
       " 'NY': 162433,\n",
       " 'WA': 58862,\n",
       " 'NJ': 58772,\n",
       " 'FL': 56716,\n",
       " 'NV': 55871,\n",
       " 'TX': 53258,\n",
       " 'MP': 42984,\n",
       " 'IL': 36929,\n",
       " 'MA': 25140,\n",
       " 'GA': 24683,\n",
       " 'MI': 18279,\n",
       " 'VA': 17402,\n",
       " 'PA': 15207,\n",
       " 'MD': 13012,\n",
       " 'DC': 11287,\n",
       " 'AZ': 10278,\n",
       " 'OR': 8383,\n",
       " 'CO': 7586,\n",
       " 'OH': 7077,\n",
       " 'AL': 7039,\n",
       " 'NC': 6905,\n",
       " 'IN': 6482,\n",
       " 'MN': 6095,\n",
       " 'UT': 5793,\n",
       " 'CT': 5076,\n",
       " 'LA': 4882,\n",
       " 'TN': 4306,\n",
       " 'WI': 4277,\n",
       " 'MO': 3946,\n",
       " 'AK': 2347,\n",
       " 'OK': 2174,\n",
       " 'KY': 2125,\n",
       " 'IA': 2104,\n",
       " 'SC': 2099,\n",
       " 'NE': 1906,\n",
       " 'RI': 1613,\n",
       " 'NH': 1566,\n",
       " 'ME': 1503,\n",
       " 'KS': 1493,\n",
       " 'PR': 1373,\n",
       " 'ID': 1313,\n",
       " 'NM': 1277,\n",
       " 'AR': 1028,\n",
       " 'MT': 919,\n",
       " 'GQ': 833,\n",
       " '99': 818,\n",
       " 'DE': 817,\n",
       " 'VT': 694,\n",
       " 'MS': 683,\n",
       " 'ND': 583,\n",
       " 'US': 562,\n",
       " 'SD': 422,\n",
       " 'WV': 337,\n",
       " 'XX': 317,\n",
       " 'WY': 277,\n",
       " 'VI': 242,\n",
       " 'TT': 211,\n",
       " 'UN': 206,\n",
       " 'HA': 135,\n",
       " 'NP': 134,\n",
       " 'DF': 127,\n",
       " 'TR': 118,\n",
       " 'TE': 93,\n",
       " 'AA': 78,\n",
       " 'NB': 68,\n",
       " 'KO': 49,\n",
       " 'LO': 23,\n",
       " 'CU': 19,\n",
       " 'TO': 18,\n",
       " 'IT': 17,\n",
       " 'SE': 17,\n",
       " 'IC': 17,\n",
       " 'CQ': 16,\n",
       " 'JF': 15,\n",
       " '\\x00\\x00': 14,\n",
       " 'NA': 13,\n",
       " 'QC': 12,\n",
       " 'II': 11,\n",
       " 'NU': 11,\n",
       " 'HO': 11,\n",
       " 'AN': 11,\n",
       " 'GE': 10,\n",
       " 'ON': 10,\n",
       " 'NW': 10,\n",
       " 'AB': 10,\n",
       " 'JQ': 9,\n",
       " 'BO': 8,\n",
       " 'BC': 8,\n",
       " 'AE': 7,\n",
       " 'MC': 7,\n",
       " 'DA': 7,\n",
       " 'SF': 7,\n",
       " 'MX': 6,\n",
       " 'SA': 6,\n",
       " 'LI': 6,\n",
       " 'YQ': 6,\n",
       " 'SL': 6,\n",
       " '.C': 6,\n",
       " 'UK': 6,\n",
       " 'JE': 6,\n",
       " 'VQ': 5,\n",
       " 'BQ': 5,\n",
       " 'SO': 5,\n",
       " 'PN': 5,\n",
       " 'AP': 5,\n",
       " 'CN': 4,\n",
       " 'PE': 4,\n",
       " 'BU': 4,\n",
       " 'GY': 4,\n",
       " 'WQ': 4,\n",
       " 'NO': 3,\n",
       " 'LP': 3,\n",
       " 'PH': 3,\n",
       " 'OA': 3,\n",
       " 'H': 3,\n",
       " 'NR': 3,\n",
       " '60': 3,\n",
       " 'AT': 3,\n",
       " 'CL': 3,\n",
       " 'TA': 3,\n",
       " 'CH': 3,\n",
       " '**': 3,\n",
       " 'SU': 3,\n",
       " 'C': 3,\n",
       " 'N': 2,\n",
       " '94': 2,\n",
       " 'VR': 2,\n",
       " 'IO': 2,\n",
       " 'FI': 2,\n",
       " '07': 2,\n",
       " 'TU': 2,\n",
       " '..': 2,\n",
       " 'AU': 2,\n",
       " 'BA': 2,\n",
       " 'EL': 2,\n",
       " 'PU': 2,\n",
       " 'NS': 2,\n",
       " 'LN': 2,\n",
       " 'TZ': 2,\n",
       " 'DD': 2,\n",
       " 'BJ': 2,\n",
       " 'RO': 2,\n",
       " 'MR': 2,\n",
       " 'DL': 2,\n",
       " 'DI': 2,\n",
       " 'EM': 1,\n",
       " 'KE': 1,\n",
       " 'BE': 1,\n",
       " 'EZ': 1,\n",
       " 'X': 1,\n",
       " 'LV': 1,\n",
       " 'PO': 1,\n",
       " 'D': 1,\n",
       " 'FT': 1,\n",
       " 'O': 1,\n",
       " '89': 1,\n",
       " 'AV': 1,\n",
       " 'W': 1,\n",
       " 'HH': 1,\n",
       " '20': 1,\n",
       " 'TJ': 1,\n",
       " 'OT': 1,\n",
       " 'NL': 1,\n",
       " 'RQ': 1,\n",
       " 'GD': 1,\n",
       " 'TY': 1,\n",
       " 'PS': 1,\n",
       " 'TH': 1,\n",
       " 'UE': 1,\n",
       " 'YY': 1,\n",
       " 'BY': 1,\n",
       " 'BR': 1,\n",
       " 'UA': 1,\n",
       " 'AQ': 1,\n",
       " 'P': 1,\n",
       " '84': 1,\n",
       " 'WE': 1,\n",
       " '0': 1,\n",
       " 'TC': 1,\n",
       " 'QR': 1,\n",
       " 'MG': 1,\n",
       " 'QU': 1,\n",
       " 'HU': 1,\n",
       " 'LL': 1,\n",
       " 'CC': 1,\n",
       " 'RH': 1,\n",
       " 'KA': 1,\n",
       " 'J': 1,\n",
       " 'GR': 1,\n",
       " 'L': 1,\n",
       " 'MV': 1,\n",
       " 'CP': 1,\n",
       " 'JA': 1,\n",
       " 'ST': 1,\n",
       " 'I0': 1,\n",
       " 'JM': 1,\n",
       " 'LU': 1,\n",
       " 'RE': 1,\n",
       " '.N': 1,\n",
       " 'PI': 1,\n",
       " 'VE': 1,\n",
       " 'DT': 1,\n",
       " '.V': 1,\n",
       " 'FA': 1,\n",
       " 'UI': 1,\n",
       " 'EU': 1,\n",
       " 'HW': 1,\n",
       " 'NI': 1,\n",
       " 'U': 1,\n",
       " 'CI': 1,\n",
       " 'WO': 1,\n",
       " '90': 1,\n",
       " 'HN': 1}"
      ]
     },
     "execution_count": 46,
     "metadata": {},
     "output_type": "execute_result"
    }
   ],
   "source": [
    "imm_cd=german['i94addr'].value_counts()\n",
    "\n",
    "imc=imm_cd.to_dict()\n",
    "imc"
   ]
  },
  {
   "cell_type": "code",
   "execution_count": 47,
   "metadata": {},
   "outputs": [
    {
     "data": {
      "text/plain": [
       "216"
      ]
     },
     "execution_count": 47,
     "metadata": {},
     "output_type": "execute_result"
    }
   ],
   "source": [
    "len(imc)"
   ]
  },
  {
   "cell_type": "markdown",
   "metadata": {},
   "source": [
    "There seems to be alot of codes that exist in the immigration dataset while not in the demographic dataset. Let's see the codes of the missing states"
   ]
  },
  {
   "cell_type": "code",
   "execution_count": 48,
   "metadata": {},
   "outputs": [
    {
     "data": {
      "text/plain": [
       "[('GU', 399141),\n",
       " ('MP', 42984),\n",
       " ('GQ', 833),\n",
       " ('99', 818),\n",
       " ('VT', 694),\n",
       " ('US', 562),\n",
       " ('WV', 337),\n",
       " ('XX', 317),\n",
       " ('WY', 277),\n",
       " ('VI', 242),\n",
       " ('TT', 211),\n",
       " ('UN', 206),\n",
       " ('HA', 135),\n",
       " ('NP', 134),\n",
       " ('DF', 127),\n",
       " ('TR', 118),\n",
       " ('TE', 93),\n",
       " ('AA', 78),\n",
       " ('NB', 68),\n",
       " ('KO', 49),\n",
       " ('LO', 23),\n",
       " ('CU', 19),\n",
       " ('TO', 18),\n",
       " ('IT', 17),\n",
       " ('SE', 17),\n",
       " ('IC', 17),\n",
       " ('CQ', 16),\n",
       " ('JF', 15),\n",
       " ('\\x00\\x00', 14),\n",
       " ('NA', 13),\n",
       " ('QC', 12),\n",
       " ('II', 11),\n",
       " ('NU', 11),\n",
       " ('HO', 11),\n",
       " ('AN', 11),\n",
       " ('GE', 10),\n",
       " ('ON', 10),\n",
       " ('NW', 10),\n",
       " ('AB', 10),\n",
       " ('JQ', 9),\n",
       " ('BO', 8),\n",
       " ('BC', 8),\n",
       " ('AE', 7),\n",
       " ('MC', 7),\n",
       " ('DA', 7),\n",
       " ('SF', 7),\n",
       " ('MX', 6),\n",
       " ('SA', 6),\n",
       " ('LI', 6),\n",
       " ('YQ', 6),\n",
       " ('SL', 6),\n",
       " ('.C', 6),\n",
       " ('UK', 6),\n",
       " ('JE', 6),\n",
       " ('VQ', 5),\n",
       " ('BQ', 5),\n",
       " ('SO', 5),\n",
       " ('PN', 5),\n",
       " ('AP', 5),\n",
       " ('CN', 4),\n",
       " ('PE', 4),\n",
       " ('BU', 4),\n",
       " ('GY', 4),\n",
       " ('WQ', 4),\n",
       " ('NO', 3),\n",
       " ('LP', 3),\n",
       " ('PH', 3),\n",
       " ('OA', 3),\n",
       " ('H', 3),\n",
       " ('NR', 3),\n",
       " ('60', 3),\n",
       " ('AT', 3),\n",
       " ('CL', 3),\n",
       " ('TA', 3),\n",
       " ('CH', 3),\n",
       " ('**', 3),\n",
       " ('SU', 3),\n",
       " ('C', 3),\n",
       " ('N', 2),\n",
       " ('94', 2),\n",
       " ('VR', 2),\n",
       " ('IO', 2),\n",
       " ('FI', 2),\n",
       " ('07', 2),\n",
       " ('TU', 2),\n",
       " ('..', 2),\n",
       " ('AU', 2),\n",
       " ('BA', 2),\n",
       " ('EL', 2),\n",
       " ('PU', 2),\n",
       " ('NS', 2),\n",
       " ('LN', 2),\n",
       " ('TZ', 2),\n",
       " ('DD', 2),\n",
       " ('BJ', 2),\n",
       " ('RO', 2),\n",
       " ('MR', 2),\n",
       " ('DL', 2),\n",
       " ('DI', 2),\n",
       " ('EM', 1),\n",
       " ('KE', 1),\n",
       " ('BE', 1),\n",
       " ('EZ', 1),\n",
       " ('X', 1),\n",
       " ('LV', 1),\n",
       " ('PO', 1),\n",
       " ('D', 1),\n",
       " ('FT', 1),\n",
       " ('O', 1),\n",
       " ('89', 1),\n",
       " ('AV', 1),\n",
       " ('W', 1),\n",
       " ('HH', 1),\n",
       " ('20', 1),\n",
       " ('TJ', 1),\n",
       " ('OT', 1),\n",
       " ('NL', 1),\n",
       " ('RQ', 1),\n",
       " ('GD', 1),\n",
       " ('TY', 1),\n",
       " ('PS', 1),\n",
       " ('TH', 1),\n",
       " ('UE', 1),\n",
       " ('YY', 1),\n",
       " ('BY', 1),\n",
       " ('BR', 1),\n",
       " ('UA', 1),\n",
       " ('AQ', 1),\n",
       " ('P', 1),\n",
       " ('84', 1),\n",
       " ('WE', 1),\n",
       " ('0', 1),\n",
       " ('TC', 1),\n",
       " ('QR', 1),\n",
       " ('MG', 1),\n",
       " ('QU', 1),\n",
       " ('HU', 1),\n",
       " ('LL', 1),\n",
       " ('CC', 1),\n",
       " ('RH', 1),\n",
       " ('KA', 1),\n",
       " ('J', 1),\n",
       " ('GR', 1),\n",
       " ('L', 1),\n",
       " ('MV', 1),\n",
       " ('CP', 1),\n",
       " ('JA', 1),\n",
       " ('ST', 1),\n",
       " ('I0', 1),\n",
       " ('JM', 1),\n",
       " ('LU', 1),\n",
       " ('RE', 1),\n",
       " ('.N', 1),\n",
       " ('PI', 1),\n",
       " ('VE', 1),\n",
       " ('DT', 1),\n",
       " ('.V', 1),\n",
       " ('FA', 1),\n",
       " ('UI', 1),\n",
       " ('EU', 1),\n",
       " ('HW', 1),\n",
       " ('NI', 1),\n",
       " ('U', 1),\n",
       " ('CI', 1),\n",
       " ('WO', 1),\n",
       " ('90', 1),\n",
       " ('HN', 1)]"
      ]
     },
     "execution_count": 48,
     "metadata": {},
     "output_type": "execute_result"
    }
   ],
   "source": [
    "no=[(k, imc[k])for k in imc.keys()if k not in st_dict.keys()]\n",
    "no"
   ]
  },
  {
   "cell_type": "markdown",
   "metadata": {},
   "source": [
    "The number of records with unknown state name seems to be high, specially for the first 2 states ('GU' & 'MP'). We will not be able to drop them since they represent around 25% of the data. Since we are building a pipeline, then it's important to avoid hard coding steps by avoiding manual search for these two values. The solution will be to use a new dataset that contains the state name and the corresponding state code"
   ]
  },
  {
   "cell_type": "code",
   "execution_count": 49,
   "metadata": {},
   "outputs": [
    {
     "data": {
      "text/html": [
       "<div>\n",
       "<style scoped>\n",
       "    .dataframe tbody tr th:only-of-type {\n",
       "        vertical-align: middle;\n",
       "    }\n",
       "\n",
       "    .dataframe tbody tr th {\n",
       "        vertical-align: top;\n",
       "    }\n",
       "\n",
       "    .dataframe thead th {\n",
       "        text-align: right;\n",
       "    }\n",
       "</style>\n",
       "<table border=\"1\" class=\"dataframe\">\n",
       "  <thead>\n",
       "    <tr style=\"text-align: right;\">\n",
       "      <th></th>\n",
       "      <th>Zip Code</th>\n",
       "      <th>Official USPS city name</th>\n",
       "      <th>Official USPS State Code</th>\n",
       "      <th>Official State Name</th>\n",
       "      <th>ZCTA</th>\n",
       "      <th>ZCTA parent</th>\n",
       "      <th>Population</th>\n",
       "      <th>Density</th>\n",
       "      <th>Primary Official County Code</th>\n",
       "      <th>Primary Official County Name</th>\n",
       "      <th>County Weights</th>\n",
       "      <th>Official County Name</th>\n",
       "      <th>Official County Code</th>\n",
       "      <th>Imprecise</th>\n",
       "      <th>Military</th>\n",
       "      <th>Timezone</th>\n",
       "      <th>Geo Point</th>\n",
       "    </tr>\n",
       "  </thead>\n",
       "  <tbody>\n",
       "    <tr>\n",
       "      <th>0</th>\n",
       "      <td>90005</td>\n",
       "      <td>Los Angeles</td>\n",
       "      <td>CA</td>\n",
       "      <td>California</td>\n",
       "      <td>True</td>\n",
       "      <td>NaN</td>\n",
       "      <td>39732.0</td>\n",
       "      <td>14151.8</td>\n",
       "      <td>6037</td>\n",
       "      <td>Los Angeles</td>\n",
       "      <td>{\"06037\": \"100\"}</td>\n",
       "      <td>Los Angeles</td>\n",
       "      <td>6037</td>\n",
       "      <td>False</td>\n",
       "      <td>False</td>\n",
       "      <td>America/Los_Angeles</td>\n",
       "      <td>34.05912, -118.30654</td>\n",
       "    </tr>\n",
       "  </tbody>\n",
       "</table>\n",
       "</div>"
      ],
      "text/plain": [
       "   Zip Code Official USPS city name Official USPS State Code  \\\n",
       "0     90005             Los Angeles                       CA   \n",
       "\n",
       "  Official State Name  ZCTA  ZCTA parent  Population  Density  \\\n",
       "0          California  True          NaN     39732.0  14151.8   \n",
       "\n",
       "   Primary Official County Code Primary Official County Name  \\\n",
       "0                          6037                  Los Angeles   \n",
       "\n",
       "     County Weights Official County Name Official County Code  Imprecise  \\\n",
       "0  {\"06037\": \"100\"}          Los Angeles                 6037      False   \n",
       "\n",
       "   Military             Timezone             Geo Point  \n",
       "0     False  America/Los_Angeles  34.05912, -118.30654  "
      ]
     },
     "execution_count": 49,
     "metadata": {},
     "output_type": "execute_result"
    }
   ],
   "source": [
    "full_code=pd.read_csv('georef-united-states-of-america-zc-point@public.csv',delimiter=';')\n",
    "full_code.head(1)"
   ]
  },
  {
   "cell_type": "code",
   "execution_count": 50,
   "metadata": {},
   "outputs": [
    {
     "data": {
      "text/plain": [
       "56"
      ]
     },
     "execution_count": 50,
     "metadata": {},
     "output_type": "execute_result"
    }
   ],
   "source": [
    "# Let's get the required dictionary from our new dataset\n",
    "\n",
    "stat=full_code[['Official USPS State Code','Official State Name']].set_index('Official USPS State Code','Official State Name').to_dict()\n",
    "stat_dict=stat['Official State Name']\n",
    "len(stat_dict)"
   ]
  },
  {
   "cell_type": "code",
   "execution_count": 51,
   "metadata": {},
   "outputs": [
    {
     "data": {
      "text/plain": [
       "[('GQ', 833),\n",
       " ('99', 818),\n",
       " ('US', 562),\n",
       " ('XX', 317),\n",
       " ('TT', 211),\n",
       " ('UN', 206),\n",
       " ('HA', 135),\n",
       " ('NP', 134),\n",
       " ('DF', 127),\n",
       " ('TR', 118),\n",
       " ('TE', 93),\n",
       " ('AA', 78),\n",
       " ('NB', 68),\n",
       " ('KO', 49),\n",
       " ('LO', 23),\n",
       " ('CU', 19),\n",
       " ('TO', 18),\n",
       " ('IT', 17),\n",
       " ('SE', 17),\n",
       " ('IC', 17),\n",
       " ('CQ', 16),\n",
       " ('JF', 15),\n",
       " ('\\x00\\x00', 14),\n",
       " ('NA', 13),\n",
       " ('QC', 12),\n",
       " ('II', 11),\n",
       " ('NU', 11),\n",
       " ('HO', 11),\n",
       " ('AN', 11),\n",
       " ('GE', 10),\n",
       " ('ON', 10),\n",
       " ('NW', 10),\n",
       " ('AB', 10),\n",
       " ('JQ', 9),\n",
       " ('BO', 8),\n",
       " ('BC', 8),\n",
       " ('AE', 7),\n",
       " ('MC', 7),\n",
       " ('DA', 7),\n",
       " ('SF', 7),\n",
       " ('MX', 6),\n",
       " ('SA', 6),\n",
       " ('LI', 6),\n",
       " ('YQ', 6),\n",
       " ('SL', 6),\n",
       " ('.C', 6),\n",
       " ('UK', 6),\n",
       " ('JE', 6),\n",
       " ('VQ', 5),\n",
       " ('BQ', 5),\n",
       " ('SO', 5),\n",
       " ('PN', 5),\n",
       " ('AP', 5),\n",
       " ('CN', 4),\n",
       " ('PE', 4),\n",
       " ('BU', 4),\n",
       " ('GY', 4),\n",
       " ('WQ', 4),\n",
       " ('NO', 3),\n",
       " ('LP', 3),\n",
       " ('PH', 3),\n",
       " ('OA', 3),\n",
       " ('H', 3),\n",
       " ('NR', 3),\n",
       " ('60', 3),\n",
       " ('AT', 3),\n",
       " ('CL', 3),\n",
       " ('TA', 3),\n",
       " ('CH', 3),\n",
       " ('**', 3),\n",
       " ('SU', 3),\n",
       " ('C', 3),\n",
       " ('N', 2),\n",
       " ('94', 2),\n",
       " ('VR', 2),\n",
       " ('IO', 2),\n",
       " ('FI', 2),\n",
       " ('07', 2),\n",
       " ('TU', 2),\n",
       " ('..', 2),\n",
       " ('AU', 2),\n",
       " ('BA', 2),\n",
       " ('EL', 2),\n",
       " ('PU', 2),\n",
       " ('NS', 2),\n",
       " ('LN', 2),\n",
       " ('TZ', 2),\n",
       " ('DD', 2),\n",
       " ('BJ', 2),\n",
       " ('RO', 2),\n",
       " ('MR', 2),\n",
       " ('DL', 2),\n",
       " ('DI', 2),\n",
       " ('EM', 1),\n",
       " ('KE', 1),\n",
       " ('BE', 1),\n",
       " ('EZ', 1),\n",
       " ('X', 1),\n",
       " ('LV', 1),\n",
       " ('PO', 1),\n",
       " ('D', 1),\n",
       " ('FT', 1),\n",
       " ('O', 1),\n",
       " ('89', 1),\n",
       " ('AV', 1),\n",
       " ('W', 1),\n",
       " ('HH', 1),\n",
       " ('20', 1),\n",
       " ('TJ', 1),\n",
       " ('OT', 1),\n",
       " ('NL', 1),\n",
       " ('RQ', 1),\n",
       " ('GD', 1),\n",
       " ('TY', 1),\n",
       " ('PS', 1),\n",
       " ('TH', 1),\n",
       " ('UE', 1),\n",
       " ('YY', 1),\n",
       " ('BY', 1),\n",
       " ('BR', 1),\n",
       " ('UA', 1),\n",
       " ('AQ', 1),\n",
       " ('P', 1),\n",
       " ('84', 1),\n",
       " ('WE', 1),\n",
       " ('0', 1),\n",
       " ('TC', 1),\n",
       " ('QR', 1),\n",
       " ('MG', 1),\n",
       " ('QU', 1),\n",
       " ('HU', 1),\n",
       " ('LL', 1),\n",
       " ('CC', 1),\n",
       " ('RH', 1),\n",
       " ('KA', 1),\n",
       " ('J', 1),\n",
       " ('GR', 1),\n",
       " ('L', 1),\n",
       " ('MV', 1),\n",
       " ('CP', 1),\n",
       " ('JA', 1),\n",
       " ('ST', 1),\n",
       " ('I0', 1),\n",
       " ('JM', 1),\n",
       " ('LU', 1),\n",
       " ('RE', 1),\n",
       " ('.N', 1),\n",
       " ('PI', 1),\n",
       " ('VE', 1),\n",
       " ('DT', 1),\n",
       " ('.V', 1),\n",
       " ('FA', 1),\n",
       " ('UI', 1),\n",
       " ('EU', 1),\n",
       " ('HW', 1),\n",
       " ('NI', 1),\n",
       " ('U', 1),\n",
       " ('CI', 1),\n",
       " ('WO', 1),\n",
       " ('90', 1),\n",
       " ('HN', 1)]"
      ]
     },
     "execution_count": 51,
     "metadata": {},
     "output_type": "execute_result"
    }
   ],
   "source": [
    "# Once again, let's see if there is a missing state code\n",
    "non=[(k, imc[k])for k in imc.keys()if k not in stat_dict.keys()]\n",
    "non"
   ]
  },
  {
   "cell_type": "markdown",
   "metadata": {},
   "source": [
    "This time, the number of states with unknown code is smaller. I will replace these states' names with 'Others'"
   ]
  },
  {
   "cell_type": "code",
   "execution_count": 52,
   "metadata": {},
   "outputs": [],
   "source": [
    "stat_dict.update({key: 'Others' for key in imc.keys() if key not in stat_dict})"
   ]
  },
  {
   "cell_type": "code",
   "execution_count": 53,
   "metadata": {},
   "outputs": [
    {
     "name": "stdout",
     "output_type": "stream",
     "text": [
      "217\n"
     ]
    },
    {
     "data": {
      "text/plain": [
       "{'CA': 'California',\n",
       " 'HI': 'Hawaii',\n",
       " 'GU': 'Guam',\n",
       " 'OR': 'Oregon',\n",
       " 'WA': 'Washington',\n",
       " 'SD': 'South Dakota',\n",
       " 'PR': 'Puerto Rico',\n",
       " 'MA': 'Massachusetts',\n",
       " 'RI': 'Rhode Island',\n",
       " 'NH': 'New Hampshire',\n",
       " 'ME': 'Maine',\n",
       " 'VT': 'Vermont',\n",
       " 'CT': 'Connecticut',\n",
       " 'NJ': 'New Jersey',\n",
       " 'NY': 'New York',\n",
       " 'PA': 'Pennsylvania',\n",
       " 'DE': 'Delaware',\n",
       " 'DC': 'District of Columbia',\n",
       " 'VA': 'Virginia',\n",
       " 'MD': 'Maryland',\n",
       " 'WV': 'West Virginia',\n",
       " 'NC': 'North Carolina',\n",
       " 'SC': 'South Carolina',\n",
       " 'GA': 'Georgia',\n",
       " 'FL': 'Florida',\n",
       " 'AL': 'Alabama',\n",
       " 'TN': 'Tennessee',\n",
       " 'MS': 'Mississippi',\n",
       " 'KY': 'Kentucky',\n",
       " 'OH': 'Ohio',\n",
       " 'IN': 'Indiana',\n",
       " 'MI': 'Michigan',\n",
       " 'IA': 'Iowa',\n",
       " 'WI': 'Wisconsin',\n",
       " 'MN': 'Minnesota',\n",
       " 'ND': 'North Dakota',\n",
       " 'MT': 'Montana',\n",
       " 'IL': 'Illinois',\n",
       " 'MO': 'Missouri',\n",
       " 'KS': 'Kansas',\n",
       " 'NE': 'Nebraska',\n",
       " 'LA': 'Louisiana',\n",
       " 'AR': 'Arkansas',\n",
       " 'OK': 'Oklahoma',\n",
       " 'TX': 'Texas',\n",
       " 'CO': 'Colorado',\n",
       " 'WY': 'Wyoming',\n",
       " 'ID': 'Idaho',\n",
       " 'UT': 'Utah',\n",
       " 'AZ': 'Arizona',\n",
       " 'NM': 'New Mexico',\n",
       " 'NV': 'Nevada',\n",
       " 'AK': 'Alaska',\n",
       " 'MP': 'Northern Mariana Islands',\n",
       " 'VI': 'Virgin Islands',\n",
       " 'AS': 'American Samoa',\n",
       " 'GQ': 'Others',\n",
       " '99': 'Others',\n",
       " 'US': 'Others',\n",
       " 'XX': 'Others',\n",
       " 'TT': 'Others',\n",
       " 'UN': 'Others',\n",
       " 'HA': 'Others',\n",
       " 'NP': 'Others',\n",
       " 'DF': 'Others',\n",
       " 'TR': 'Others',\n",
       " 'TE': 'Others',\n",
       " 'AA': 'Others',\n",
       " 'NB': 'Others',\n",
       " 'KO': 'Others',\n",
       " 'LO': 'Others',\n",
       " 'CU': 'Others',\n",
       " 'TO': 'Others',\n",
       " 'IT': 'Others',\n",
       " 'SE': 'Others',\n",
       " 'IC': 'Others',\n",
       " 'CQ': 'Others',\n",
       " 'JF': 'Others',\n",
       " '\\x00\\x00': 'Others',\n",
       " 'NA': 'Others',\n",
       " 'QC': 'Others',\n",
       " 'II': 'Others',\n",
       " 'NU': 'Others',\n",
       " 'HO': 'Others',\n",
       " 'AN': 'Others',\n",
       " 'GE': 'Others',\n",
       " 'ON': 'Others',\n",
       " 'NW': 'Others',\n",
       " 'AB': 'Others',\n",
       " 'JQ': 'Others',\n",
       " 'BO': 'Others',\n",
       " 'BC': 'Others',\n",
       " 'AE': 'Others',\n",
       " 'MC': 'Others',\n",
       " 'DA': 'Others',\n",
       " 'SF': 'Others',\n",
       " 'MX': 'Others',\n",
       " 'SA': 'Others',\n",
       " 'LI': 'Others',\n",
       " 'YQ': 'Others',\n",
       " 'SL': 'Others',\n",
       " '.C': 'Others',\n",
       " 'UK': 'Others',\n",
       " 'JE': 'Others',\n",
       " 'VQ': 'Others',\n",
       " 'BQ': 'Others',\n",
       " 'SO': 'Others',\n",
       " 'PN': 'Others',\n",
       " 'AP': 'Others',\n",
       " 'CN': 'Others',\n",
       " 'PE': 'Others',\n",
       " 'BU': 'Others',\n",
       " 'GY': 'Others',\n",
       " 'WQ': 'Others',\n",
       " 'NO': 'Others',\n",
       " 'LP': 'Others',\n",
       " 'PH': 'Others',\n",
       " 'OA': 'Others',\n",
       " 'H': 'Others',\n",
       " 'NR': 'Others',\n",
       " '60': 'Others',\n",
       " 'AT': 'Others',\n",
       " 'CL': 'Others',\n",
       " 'TA': 'Others',\n",
       " 'CH': 'Others',\n",
       " '**': 'Others',\n",
       " 'SU': 'Others',\n",
       " 'C': 'Others',\n",
       " 'N': 'Others',\n",
       " '94': 'Others',\n",
       " 'VR': 'Others',\n",
       " 'IO': 'Others',\n",
       " 'FI': 'Others',\n",
       " '07': 'Others',\n",
       " 'TU': 'Others',\n",
       " '..': 'Others',\n",
       " 'AU': 'Others',\n",
       " 'BA': 'Others',\n",
       " 'EL': 'Others',\n",
       " 'PU': 'Others',\n",
       " 'NS': 'Others',\n",
       " 'LN': 'Others',\n",
       " 'TZ': 'Others',\n",
       " 'DD': 'Others',\n",
       " 'BJ': 'Others',\n",
       " 'RO': 'Others',\n",
       " 'MR': 'Others',\n",
       " 'DL': 'Others',\n",
       " 'DI': 'Others',\n",
       " 'EM': 'Others',\n",
       " 'KE': 'Others',\n",
       " 'BE': 'Others',\n",
       " 'EZ': 'Others',\n",
       " 'X': 'Others',\n",
       " 'LV': 'Others',\n",
       " 'PO': 'Others',\n",
       " 'D': 'Others',\n",
       " 'FT': 'Others',\n",
       " 'O': 'Others',\n",
       " '89': 'Others',\n",
       " 'AV': 'Others',\n",
       " 'W': 'Others',\n",
       " 'HH': 'Others',\n",
       " '20': 'Others',\n",
       " 'TJ': 'Others',\n",
       " 'OT': 'Others',\n",
       " 'NL': 'Others',\n",
       " 'RQ': 'Others',\n",
       " 'GD': 'Others',\n",
       " 'TY': 'Others',\n",
       " 'PS': 'Others',\n",
       " 'TH': 'Others',\n",
       " 'UE': 'Others',\n",
       " 'YY': 'Others',\n",
       " 'BY': 'Others',\n",
       " 'BR': 'Others',\n",
       " 'UA': 'Others',\n",
       " 'AQ': 'Others',\n",
       " 'P': 'Others',\n",
       " '84': 'Others',\n",
       " 'WE': 'Others',\n",
       " '0': 'Others',\n",
       " 'TC': 'Others',\n",
       " 'QR': 'Others',\n",
       " 'MG': 'Others',\n",
       " 'QU': 'Others',\n",
       " 'HU': 'Others',\n",
       " 'LL': 'Others',\n",
       " 'CC': 'Others',\n",
       " 'RH': 'Others',\n",
       " 'KA': 'Others',\n",
       " 'J': 'Others',\n",
       " 'GR': 'Others',\n",
       " 'L': 'Others',\n",
       " 'MV': 'Others',\n",
       " 'CP': 'Others',\n",
       " 'JA': 'Others',\n",
       " 'ST': 'Others',\n",
       " 'I0': 'Others',\n",
       " 'JM': 'Others',\n",
       " 'LU': 'Others',\n",
       " 'RE': 'Others',\n",
       " '.N': 'Others',\n",
       " 'PI': 'Others',\n",
       " 'VE': 'Others',\n",
       " 'DT': 'Others',\n",
       " '.V': 'Others',\n",
       " 'FA': 'Others',\n",
       " 'UI': 'Others',\n",
       " 'EU': 'Others',\n",
       " 'HW': 'Others',\n",
       " 'NI': 'Others',\n",
       " 'U': 'Others',\n",
       " 'CI': 'Others',\n",
       " 'WO': 'Others',\n",
       " '90': 'Others',\n",
       " 'HN': 'Others'}"
      ]
     },
     "execution_count": 53,
     "metadata": {},
     "output_type": "execute_result"
    }
   ],
   "source": [
    "print(len(stat_dict))\n",
    "stat_dict"
   ]
  },
  {
   "cell_type": "code",
   "execution_count": 54,
   "metadata": {},
   "outputs": [
    {
     "data": {
      "text/html": [
       "<div>\n",
       "<style scoped>\n",
       "    .dataframe tbody tr th:only-of-type {\n",
       "        vertical-align: middle;\n",
       "    }\n",
       "\n",
       "    .dataframe tbody tr th {\n",
       "        vertical-align: top;\n",
       "    }\n",
       "\n",
       "    .dataframe thead th {\n",
       "        text-align: right;\n",
       "    }\n",
       "</style>\n",
       "<table border=\"1\" class=\"dataframe\">\n",
       "  <thead>\n",
       "    <tr style=\"text-align: right;\">\n",
       "      <th></th>\n",
       "      <th>cicid</th>\n",
       "      <th>i94mon</th>\n",
       "      <th>i94addr</th>\n",
       "      <th>visatype</th>\n",
       "      <th>State</th>\n",
       "    </tr>\n",
       "  </thead>\n",
       "  <tbody>\n",
       "    <tr>\n",
       "      <th>0</th>\n",
       "      <td>5028.0</td>\n",
       "      <td>1.0</td>\n",
       "      <td>NY</td>\n",
       "      <td>F1</td>\n",
       "      <td>New York</td>\n",
       "    </tr>\n",
       "    <tr>\n",
       "      <th>1</th>\n",
       "      <td>8576.0</td>\n",
       "      <td>1.0</td>\n",
       "      <td>CA</td>\n",
       "      <td>WT</td>\n",
       "      <td>California</td>\n",
       "    </tr>\n",
       "  </tbody>\n",
       "</table>\n",
       "</div>"
      ],
      "text/plain": [
       "    cicid  i94mon i94addr visatype       State\n",
       "0  5028.0     1.0      NY       F1    New York\n",
       "1  8576.0     1.0      CA       WT  California"
      ]
     },
     "execution_count": 54,
     "metadata": {},
     "output_type": "execute_result"
    }
   ],
   "source": [
    "# retrieve the full state name and add it to the german dataset\n",
    "german['State']= german['i94addr'].apply(lambda x: stat_dict[x])\n",
    "german.head(2)"
   ]
  },
  {
   "cell_type": "markdown",
   "metadata": {},
   "source": [
    "Now, Let's run a quality check to see the number of states with un-identified codes that we named \"Others\""
   ]
  },
  {
   "cell_type": "markdown",
   "metadata": {},
   "source": [
    "### Quality Check #2:\n",
    "\n",
    "I want to display the % of \"Others\" states and return a warning if the % exceeded a certain threshold, this will be helpful if the file content changed to ensure that the # of others will not be large in the new records."
   ]
  },
  {
   "cell_type": "code",
   "execution_count": 55,
   "metadata": {},
   "outputs": [
    {
     "name": "stdout",
     "output_type": "stream",
     "text": [
      "The % of 'Others' states is 0.2%\n"
     ]
    }
   ],
   "source": [
    "st_thrsh=0.15\n",
    "others_ratio=german[german['State']=='Others']['State'].count()/len(german)\n",
    "\n",
    "print(\"The % of 'Others' states is {}%\".format(round(others_ratio*100,1))) \n",
    " \n",
    "if others_ratio> st_thrsh:\n",
    "    print('***WARNING: Number of unknown (Others) states Exceeds Threshold!****')"
   ]
  },
  {
   "cell_type": "markdown",
   "metadata": {},
   "source": [
    "By Now, our dataset has reached its final form and is now ready for our analysis"
   ]
  },
  {
   "cell_type": "markdown",
   "metadata": {},
   "source": [
    "Now let's answer our questions:\n",
    "Which types of Visas do Germans use?"
   ]
  },
  {
   "cell_type": "code",
   "execution_count": 56,
   "metadata": {},
   "outputs": [
    {
     "data": {
      "text/plain": [
       "WT     963429\n",
       "GMT    481685\n",
       "WB     126601\n",
       "F1      90934\n",
       "B2      82183\n",
       "B1      23801\n",
       "E2       9300\n",
       "F2       7499\n",
       "E1       1284\n",
       "CP       1179\n",
       "M1       1094\n",
       "GMB      1059\n",
       "I         575\n",
       "M2        108\n",
       "I1         35\n",
       "Name: visatype, dtype: int64"
      ]
     },
     "execution_count": 56,
     "metadata": {},
     "output_type": "execute_result"
    }
   ],
   "source": [
    "visas=german['visatype'].value_counts()\n",
    "visas"
   ]
  },
  {
   "cell_type": "code",
   "execution_count": 57,
   "metadata": {},
   "outputs": [
    {
     "data": {
      "image/png": "[encoded data removed]",
      "text/plain": [
       "<matplotlib.figure.Figure at 0x7f82da4f7828>"
      ]
     },
     "metadata": {
      "needs_background": "light"
     },
     "output_type": "display_data"
    }
   ],
   "source": [
    "plt.bar(list(visas.index), list(visas))\n",
    "plt.title('Types of Visas used by German residents during their visit to USA')\n",
    "plt.xlabel('Visa Type')\n",
    "plt.ylabel('Visa Count')\n",
    "plt.xticks(rotation=90)\n",
    "#ax.bar_label(bars)\n",
    "plt.box(False)\n",
    "#plt.gca().invert_yaxis();"
   ]
  },
  {
   "cell_type": "markdown",
   "metadata": {},
   "source": [
    "It seems that \"WT\" & \"GMT\" are the most populat visa types. Now let's check their travelling pattern over the year."
   ]
  },
  {
   "cell_type": "code",
   "execution_count": 58,
   "metadata": {},
   "outputs": [
    {
     "data": {
      "text/plain": [
       "1.0     160368\n",
       "2.0     133147\n",
       "3.0     109489\n",
       "4.0     120948\n",
       "5.0     139896\n",
       "6.0     153713\n",
       "7.0     181844\n",
       "8.0     158425\n",
       "9.0     166519\n",
       "10.0    155070\n",
       "11.0    142255\n",
       "12.0    169092\n",
       "Name: i94mon, dtype: int64"
      ]
     },
     "execution_count": 58,
     "metadata": {},
     "output_type": "execute_result"
    }
   ],
   "source": [
    "pat=german['i94mon'].value_counts()\n",
    "pat.sort_index(inplace=True)\n",
    "pat"
   ]
  },
  {
   "cell_type": "code",
   "execution_count": 59,
   "metadata": {
    "scrolled": false
   },
   "outputs": [
    {
     "data": {
      "image/png": "[encoded data removed]",
      "text/plain": [
       "<matplotlib.figure.Figure at 0x7f82da4cea90>"
      ]
     },
     "metadata": {
      "needs_background": "light"
     },
     "output_type": "display_data"
    }
   ],
   "source": [
    "plt.figure(figsize=(6,3))\n",
    "plt.bar(x=pat.index, height=pat)\n",
    "plt.title(\"Number of German Residents' Visits to USA per Month\")\n",
    "plt.xlabel('Month')\n",
    "plt.ylabel('count');\n",
    "plt.xticks(pat.index);"
   ]
  },
  {
   "cell_type": "markdown",
   "metadata": {},
   "source": [
    "The count over month is a bit similar with no spikes (except for a decrease in March & April)"
   ]
  },
  {
   "cell_type": "markdown",
   "metadata": {},
   "source": [
    "what are their preferred states to reside in during their visits to USA? I will display the top 10"
   ]
  },
  {
   "cell_type": "code",
   "execution_count": 60,
   "metadata": {},
   "outputs": [
    {
     "data": {
      "text/plain": [
       "Index(['Guam', 'California', 'Hawaii', 'New York', 'Washington', 'New Jersey',\n",
       "       'Florida', 'Nevada', 'Texas', 'Northern Mariana Islands'],\n",
       "      dtype='object')"
      ]
     },
     "execution_count": 60,
     "metadata": {},
     "output_type": "execute_result"
    }
   ],
   "source": [
    "pref=german['State'].value_counts()\n",
    "pref[:10].index"
   ]
  },
  {
   "cell_type": "code",
   "execution_count": 61,
   "metadata": {
    "scrolled": true
   },
   "outputs": [
    {
     "data": {
      "image/png": "[encoded data removed]",
      "text/plain": [
       "<matplotlib.figure.Figure at 0x7f82da1f0b38>"
      ]
     },
     "metadata": {
      "needs_background": "light"
     },
     "output_type": "display_data"
    }
   ],
   "source": [
    "plt.bar(list(pref[:10].index), list(pref[:10]))\n",
    "\n",
    "plt.title('Top 10 Preferred States' +  \"\\n\" + 'by German Residents', loc='right')\n",
    "plt.xlabel('States')\n",
    "plt.xticks(rotation=90)\n",
    "plt.ylabel('Count')\n",
    "\n",
    "plt.box(False);"
   ]
  },
  {
   "cell_type": "markdown",
   "metadata": {},
   "source": [
    "It seems that Guam & California are the go-to states for German residents.\n",
    "\n",
    "Now we have answers for our questions!"
   ]
  },
  {
   "cell_type": "markdown",
   "metadata": {},
   "source": [
    "### Step 3: Define the Data Model\n",
    "#### 3.1 Conceptual Data Model\n",
    "The data model used in this project is Star Schema. The reason for choosing it is that the datasets used are as below:\n",
    "\n",
    "* One fact table (german)\n",
    "* 3 dimensions tables (codes, full_code & df_demo)\n",
    "\n",
    "My target was to complete the data in the main Immigration dataset (german) and make it reach to a form that will be ready for analysis. Here is a diagram showing the schema."
   ]
  },
  {
   "cell_type": "code",
   "execution_count": 68,
   "metadata": {},
   "outputs": [
    {
     "data": {
      "image/png": "[encoded data removed]",
      "text/plain": [
       "<IPython.core.display.Image object>"
      ]
     },
     "execution_count": 68,
     "metadata": {},
     "output_type": "execute_result"
    }
   ],
   "source": [
    "display.Image(\"Capstone Star.PNG\")"
   ]
  },
  {
   "cell_type": "markdown",
   "metadata": {},
   "source": [
    "#### 3.2 Mapping Out Data Pipelines\n",
    "List the steps necessary to pipeline the data into the chosen data model\n",
    "\n",
    "1. Retrieve the immigration data from its source\n",
    "2. Create a function (monthly_data) that takes in raw data files, does the required pre-processing, and displays the needed warnings-if any-.\n",
    "3. Use dimention table (ISO code) to filter the required data (German residents) \n",
    "4. Join the fact table with dimentions table to retrieve the required data (State full name), and display a warning if the number of unknown states increase, so that in future runs after the files update, we could ensure that we don't have a huge number of missing state name. We also used \"Others\" to fill missing/incorrect state name."
   ]
  },
  {
   "cell_type": "markdown",
   "metadata": {},
   "source": [
    "The final data looks like the below:\n",
    "\n",
    "A table that contains only german residents with their data including the full state name chosen by each visitor."
   ]
  },
  {
   "cell_type": "code",
   "execution_count": 69,
   "metadata": {},
   "outputs": [
    {
     "data": {
      "text/html": [
       "<div>\n",
       "<style scoped>\n",
       "    .dataframe tbody tr th:only-of-type {\n",
       "        vertical-align: middle;\n",
       "    }\n",
       "\n",
       "    .dataframe tbody tr th {\n",
       "        vertical-align: top;\n",
       "    }\n",
       "\n",
       "    .dataframe thead th {\n",
       "        text-align: right;\n",
       "    }\n",
       "</style>\n",
       "<table border=\"1\" class=\"dataframe\">\n",
       "  <thead>\n",
       "    <tr style=\"text-align: right;\">\n",
       "      <th></th>\n",
       "      <th>cicid</th>\n",
       "      <th>i94mon</th>\n",
       "      <th>i94addr</th>\n",
       "      <th>visatype</th>\n",
       "      <th>State</th>\n",
       "    </tr>\n",
       "  </thead>\n",
       "  <tbody>\n",
       "    <tr>\n",
       "      <th>0</th>\n",
       "      <td>5028.0</td>\n",
       "      <td>1.0</td>\n",
       "      <td>NY</td>\n",
       "      <td>F1</td>\n",
       "      <td>New York</td>\n",
       "    </tr>\n",
       "  </tbody>\n",
       "</table>\n",
       "</div>"
      ],
      "text/plain": [
       "    cicid  i94mon i94addr visatype     State\n",
       "0  5028.0     1.0      NY       F1  New York"
      ]
     },
     "execution_count": 69,
     "metadata": {},
     "output_type": "execute_result"
    }
   ],
   "source": [
    "german.head(1)"
   ]
  },
  {
   "cell_type": "markdown",
   "metadata": {},
   "source": [
    "### sample query: One example for how to use the table could be as below:\n",
    "\n",
    "Someone from the immigration analytics team is interested in knowing the month that had the highest number of german residents visiting USA during 2016. He could use the below query:"
   ]
  },
  {
   "cell_type": "code",
   "execution_count": 92,
   "metadata": {},
   "outputs": [
    {
     "data": {
      "text/plain": [
       "7.0"
      ]
     },
     "execution_count": 92,
     "metadata": {},
     "output_type": "execute_result"
    }
   ],
   "source": [
    "german['i94mon'].value_counts().index[0]"
   ]
  },
  {
   "cell_type": "markdown",
   "metadata": {},
   "source": [
    "### Step 4: Run Pipelines to Model the Data \n",
    "#### 4.1 Create the data model\n",
    "\n",
    "Build the data pipelines to create the data model: Already done in the above steps"
   ]
  },
  {
   "cell_type": "markdown",
   "metadata": {},
   "source": [
    "#### 4.2 Data Quality Checks\n",
    "Explain the data quality checks you'll perform to ensure the pipeline ran as expected. These could include:\n",
    " * Integrity constraints on the relational database (e.g., unique key, data type, etc.)\n",
    " * Unit tests for the scripts to ensure they are doing the right thing\n",
    " * Source/Count checks to ensure completeness\n",
    " \n",
    "Run Quality Checks:\n",
    "\n",
    "Check #1: I will count the number of rows for all months to ensure each table has rows more than 0.\n",
    "\n",
    "Check #2: Checking the % of states with unknow names (refereed to as \"others\") and displaying a warning message if the % exceeded a given threshold."
   ]
  },
  {
   "cell_type": "markdown",
   "metadata": {},
   "source": [
    "#### 4.3 Data dictionary \n",
    "Create a data dictionary for your data model. For each field, provide a brief description of what the data is and where it came from. You can include the data dictionary in the notebook or in a separate file (Included in a separate file)."
   ]
  },
  {
   "cell_type": "markdown",
   "metadata": {},
   "source": [
    "#### Step 5: Complete Project Write Up\n",
    "* Clearly state the rationale for the choice of tools and technologies for the project.\n",
    "\n",
    "I used only Jupyter notebook for the project, since the data size was still small and all project stages could be successfully run through the notebook."
   ]
  },
  {
   "cell_type": "markdown",
   "metadata": {},
   "source": [
    "* Propose how often the data should be updated and why.\n",
    "\n",
    "From the analytics point of view, this data should be run once per month, since the analysis was built on month granularity. So any change in data behavior should be detected on the month level not on weekly or daily...etc specially that the dataset doesn't include columns for weeks or days timestamp. The smallest time level included is the month column. "
   ]
  },
  {
   "cell_type": "markdown",
   "metadata": {},
   "source": [
    "* Write a description of how you would approach the problem differently under the following scenarios:\n",
    " * The data was increased by 100x.\n",
    " \n",
    " I would upload the datasets to AWS and use it for analysis, since the data size will increase and it won't be efficient to run it in the notebook"
   ]
  },
  {
   "cell_type": "markdown",
   "metadata": {},
   "source": [
    " * The data populates a dashboard that must be updated on a daily basis by 7am every day.\n",
    " \n",
    "I would use airflow and create a DAG with a scheduled daily run"
   ]
  },
  {
   "cell_type": "markdown",
   "metadata": {},
   "source": [
    " * The database needed to be accessed by 100+ people.\n",
    " \n",
    " I would upload all datasets on the cloud and use its storage capacity, and create different roles with different access for each group to be able to access the data with their proposed limitation."
   ]
  }
 ],
 "metadata": {
  "kernelspec": {
   "display_name": "Python 3",
   "language": "python",
   "name": "python3"
  },
  "language_info": {
   "codemirror_mode": {
    "name": "ipython",
    "version": 3
   },
   "file_extension": ".py",
   "mimetype": "text/x-python",
   "name": "python",
   "nbconvert_exporter": "python",
   "pygments_lexer": "ipython3",
   "version": "3.6.3"
  }
 },
 "nbformat": 4,
 "nbformat_minor": 4
}
